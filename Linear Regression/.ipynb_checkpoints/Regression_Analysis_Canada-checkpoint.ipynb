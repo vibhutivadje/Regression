{
 "cells": [
  {
   "cell_type": "markdown",
   "id": "c2499ccf",
   "metadata": {},
   "source": [
    "Problem Statement: Given data for Canada per Capita Income along with year, predict Income for year 2020"
   ]
  },
  {
   "cell_type": "code",
   "execution_count": null,
   "id": "ae730f76",
   "metadata": {},
   "outputs": [],
   "source": []
  }
 ],
 "metadata": {
  "kernelspec": {
   "display_name": "Python 3 (ipykernel)",
   "language": "python",
   "name": "python3"
  },
  "language_info": {
   "codemirror_mode": {
    "name": "ipython",
    "version": 3
   },
   "file_extension": ".py",
   "mimetype": "text/x-python",
   "name": "python",
   "nbconvert_exporter": "python",
   "pygments_lexer": "ipython3",
   "version": "3.9.7"
  }
 },
 "nbformat": 4,
 "nbformat_minor": 5
}
